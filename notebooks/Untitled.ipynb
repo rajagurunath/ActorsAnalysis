{
 "cells": [
  {
   "cell_type": "code",
   "execution_count": 32,
   "metadata": {
    "ExecuteTime": {
     "end_time": "2020-10-03T18:31:07.772418Z",
     "start_time": "2020-10-03T18:31:07.767433Z"
    }
   },
   "outputs": [],
   "source": [
    "import pyarrow.parquet as pq\n",
    "import memory_profiler\n",
    "from memory_profiler import memory_usage,logging\n",
    "import glob"
   ]
  },
  {
   "cell_type": "code",
   "execution_count": 26,
   "metadata": {
    "ExecuteTime": {
     "end_time": "2020-10-03T18:29:51.685083Z",
     "start_time": "2020-10-03T18:29:51.679103Z"
    }
   },
   "outputs": [],
   "source": [
    "%load_ext memory_profiler\n"
   ]
  },
  {
   "cell_type": "code",
   "execution_count": 27,
   "metadata": {
    "ExecuteTime": {
     "end_time": "2020-10-03T18:30:03.860228Z",
     "start_time": "2020-10-03T18:29:53.620076Z"
    }
   },
   "outputs": [
    {
     "name": "stdout",
     "output_type": "stream",
     "text": [
      "peak memory: 132.53 MiB, increment: 0.06 MiB\n"
     ]
    }
   ],
   "source": [
    "%memit"
   ]
  },
  {
   "cell_type": "code",
   "execution_count": 31,
   "metadata": {
    "ExecuteTime": {
     "end_time": "2020-10-03T18:30:50.494974Z",
     "start_time": "2020-10-03T18:30:42.607153Z"
    }
   },
   "outputs": [
    {
     "name": "stdout",
     "output_type": "stream",
     "text": [
      "peak memory: 132.53 MiB, increment: -0.00 MiB\n"
     ]
    }
   ],
   "source": [
    "%%memit\n",
    "def r():\n",
    "    a={}\n",
    "    a['p']=1\n",
    "    return a,1+1\n",
    "r()"
   ]
  },
  {
   "cell_type": "code",
   "execution_count": 53,
   "metadata": {
    "ExecuteTime": {
     "end_time": "2020-10-03T18:36:32.830236Z",
     "start_time": "2020-10-03T18:36:32.822263Z"
    }
   },
   "outputs": [],
   "source": [
    "files=glob.glob(r\"C:\\Users\\GLANKUP\\MBRDI\\data\\NAG3M ISG2\\Converted\\*.parquet\")"
   ]
  },
  {
   "cell_type": "code",
   "execution_count": 54,
   "metadata": {
    "ExecuteTime": {
     "end_time": "2020-10-03T18:36:33.954848Z",
     "start_time": "2020-10-03T18:36:33.926897Z"
    }
   },
   "outputs": [
    {
     "data": {
      "text/plain": [
       "<pyarrow.parquet.ParquetDataset at 0x28efbfeb108>"
      ]
     },
     "execution_count": 54,
     "metadata": {},
     "output_type": "execute_result"
    }
   ],
   "source": [
    "# %%memit\n",
    "df=pq.ParquetDataset(files,validate_schema=False)\n",
    "df"
   ]
  },
  {
   "cell_type": "code",
   "execution_count": 63,
   "metadata": {
    "ExecuteTime": {
     "end_time": "2020-10-03T18:45:44.868050Z",
     "start_time": "2020-10-03T18:45:41.307252Z"
    }
   },
   "outputs": [
    {
     "name": "stdout",
     "output_type": "stream",
     "text": [
      "peak memory: 143.37 MiB, increment: 2.67 MiB\n"
     ]
    }
   ],
   "source": [
    "%%memit\n",
    "df1=pq.read_table(r\"C:\\Users\\GLANKUP\\MBRDI\\data\\converted\\Year-month-2020-07-01-Route-15-Vehicle-213-5572.parquet\")"
   ]
  },
  {
   "cell_type": "code",
   "execution_count": 66,
   "metadata": {
    "ExecuteTime": {
     "end_time": "2020-10-03T18:46:30.463287Z",
     "start_time": "2020-10-03T18:46:27.541321Z"
    }
   },
   "outputs": [
    {
     "name": "stdout",
     "output_type": "stream",
     "text": [
      "peak memory: 157.14 MiB, increment: 15.42 MiB\n"
     ]
    }
   ],
   "source": [
    "%%memit\n",
    "ssd=df1.to_pandas()"
   ]
  },
  {
   "cell_type": "code",
   "execution_count": 67,
   "metadata": {
    "ExecuteTime": {
     "end_time": "2020-10-03T18:46:59.467044Z",
     "start_time": "2020-10-03T18:46:51.223433Z"
    }
   },
   "outputs": [
    {
     "name": "stdout",
     "output_type": "stream",
     "text": [
      "peak memory: 157.13 MiB, increment: 0.00 MiB\n"
     ]
    }
   ],
   "source": [
    "%%memit\n",
    "ssd"
   ]
  },
  {
   "cell_type": "code",
   "execution_count": 73,
   "metadata": {
    "ExecuteTime": {
     "end_time": "2020-10-03T18:48:36.139704Z",
     "start_time": "2020-10-03T18:48:36.133718Z"
    }
   },
   "outputs": [
    {
     "data": {
      "text/plain": [
       "pyarrow.lib.Table"
      ]
     },
     "execution_count": 73,
     "metadata": {},
     "output_type": "execute_result"
    }
   ],
   "source": [
    "type(df1)"
   ]
  },
  {
   "cell_type": "code",
   "execution_count": 71,
   "metadata": {
    "ExecuteTime": {
     "end_time": "2020-10-03T18:47:24.124758Z",
     "start_time": "2020-10-03T18:47:24.120768Z"
    }
   },
   "outputs": [],
   "source": [
    "import duckdb\n",
    "\n",
    "from duckdb import from_arrow_table"
   ]
  },
  {
   "cell_type": "code",
   "execution_count": 75,
   "metadata": {
    "ExecuteTime": {
     "end_time": "2020-10-04T05:44:45.658903Z",
     "start_time": "2020-10-04T05:44:45.646936Z"
    }
   },
   "outputs": [
    {
     "data": {
      "text/plain": [
       "<duckdb.DuckDBPyConnection at 0x28ec76f2170>"
      ]
     },
     "execution_count": 75,
     "metadata": {},
     "output_type": "execute_result"
    }
   ],
   "source": [
    "cursor = duckdb.connect()\n",
    "cursor"
   ]
  },
  {
   "cell_type": "code",
   "execution_count": 79,
   "metadata": {
    "ExecuteTime": {
     "end_time": "2020-10-04T05:46:57.976256Z",
     "start_time": "2020-10-04T05:46:57.962294Z"
    }
   },
   "outputs": [],
   "source": [
    "s=cursor.from_df(df1.to_pandas())"
   ]
  },
  {
   "cell_type": "code",
   "execution_count": 81,
   "metadata": {
    "ExecuteTime": {
     "end_time": "2020-10-04T05:47:57.530914Z",
     "start_time": "2020-10-04T05:47:57.507972Z"
    }
   },
   "outputs": [],
   "source": [
    "s.create(\"d_table\")"
   ]
  },
  {
   "cell_type": "code",
   "execution_count": 87,
   "metadata": {
    "ExecuteTime": {
     "end_time": "2020-10-04T05:51:02.104389Z",
     "start_time": "2020-10-04T05:51:02.091435Z"
    }
   },
   "outputs": [],
   "source": [
    "import duckdb_query_graph\n"
   ]
  },
  {
   "cell_type": "code",
   "execution_count": null,
   "metadata": {
    "ExecuteTime": {
     "end_time": "2020-10-04T05:52:11.225298Z",
     "start_time": "2020-10-04T05:52:11.209341Z"
    }
   },
   "outputs": [],
   "source": []
  },
  {
   "cell_type": "code",
   "execution_count": 84,
   "metadata": {
    "ExecuteTime": {
     "end_time": "2020-10-04T05:48:34.567162Z",
     "start_time": "2020-10-04T05:48:34.528255Z"
    }
   },
   "outputs": [
    {
     "data": {
      "text/html": [
       "<div>\n",
       "<style scoped>\n",
       "    .dataframe tbody tr th:only-of-type {\n",
       "        vertical-align: middle;\n",
       "    }\n",
       "\n",
       "    .dataframe tbody tr th {\n",
       "        vertical-align: top;\n",
       "    }\n",
       "\n",
       "    .dataframe thead th {\n",
       "        text-align: right;\n",
       "    }\n",
       "</style>\n",
       "<table border=\"1\" class=\"dataframe\">\n",
       "  <thead>\n",
       "    <tr style=\"text-align: right;\">\n",
       "      <th></th>\n",
       "      <th>odo</th>\n",
       "    </tr>\n",
       "  </thead>\n",
       "  <tbody>\n",
       "    <tr>\n",
       "      <th>0</th>\n",
       "      <td>80581.5</td>\n",
       "    </tr>\n",
       "    <tr>\n",
       "      <th>1</th>\n",
       "      <td>80581.5</td>\n",
       "    </tr>\n",
       "    <tr>\n",
       "      <th>2</th>\n",
       "      <td>80581.5</td>\n",
       "    </tr>\n",
       "    <tr>\n",
       "      <th>3</th>\n",
       "      <td>80581.5</td>\n",
       "    </tr>\n",
       "    <tr>\n",
       "      <th>4</th>\n",
       "      <td>80581.5</td>\n",
       "    </tr>\n",
       "    <tr>\n",
       "      <th>...</th>\n",
       "      <td>...</td>\n",
       "    </tr>\n",
       "    <tr>\n",
       "      <th>9120</th>\n",
       "      <td>80626.3</td>\n",
       "    </tr>\n",
       "    <tr>\n",
       "      <th>9121</th>\n",
       "      <td>80626.3</td>\n",
       "    </tr>\n",
       "    <tr>\n",
       "      <th>9122</th>\n",
       "      <td>80626.3</td>\n",
       "    </tr>\n",
       "    <tr>\n",
       "      <th>9123</th>\n",
       "      <td>80626.3</td>\n",
       "    </tr>\n",
       "    <tr>\n",
       "      <th>9124</th>\n",
       "      <td>NaN</td>\n",
       "    </tr>\n",
       "  </tbody>\n",
       "</table>\n",
       "<p>9125 rows × 1 columns</p>\n",
       "</div>"
      ],
      "text/plain": [
       "          odo\n",
       "0     80581.5\n",
       "1     80581.5\n",
       "2     80581.5\n",
       "3     80581.5\n",
       "4     80581.5\n",
       "...       ...\n",
       "9120  80626.3\n",
       "9121  80626.3\n",
       "9122  80626.3\n",
       "9123  80626.3\n",
       "9124      NaN\n",
       "\n",
       "[9125 rows x 1 columns]"
      ]
     },
     "execution_count": 84,
     "metadata": {},
     "output_type": "execute_result"
    }
   ],
   "source": [
    "cursor.execute(\"select Odo from d_table\").fetchdf()"
   ]
  },
  {
   "cell_type": "code",
   "execution_count": 72,
   "metadata": {
    "ExecuteTime": {
     "end_time": "2020-10-03T18:47:24.528571Z",
     "start_time": "2020-10-03T18:47:24.514605Z"
    }
   },
   "outputs": [
    {
     "ename": "AttributeError",
     "evalue": "'pyarrow.lib.Schema' object has no attribute '_export_to_c'",
     "output_type": "error",
     "traceback": [
      "\u001b[1;31m---------------------------------------------------------------------------\u001b[0m",
      "\u001b[1;31mAttributeError\u001b[0m                            Traceback (most recent call last)",
      "\u001b[1;32m<ipython-input-72-cbecddca190f>\u001b[0m in \u001b[0;36m<module>\u001b[1;34m\u001b[0m\n\u001b[1;32m----> 1\u001b[1;33m \u001b[0mconn\u001b[0m\u001b[1;33m=\u001b[0m\u001b[0mfrom_arrow_table\u001b[0m\u001b[1;33m(\u001b[0m\u001b[0mdf1\u001b[0m\u001b[1;33m)\u001b[0m\u001b[1;33m\u001b[0m\u001b[1;33m\u001b[0m\u001b[0m\n\u001b[0m",
      "\u001b[1;31mAttributeError\u001b[0m: 'pyarrow.lib.Schema' object has no attribute '_export_to_c'"
     ]
    }
   ],
   "source": [
    "conn=from_arrow_table(df1)"
   ]
  },
  {
   "cell_type": "code",
   "execution_count": null,
   "metadata": {},
   "outputs": [],
   "source": []
  }
 ],
 "metadata": {
  "kernelspec": {
   "display_name": "Python 3",
   "language": "python",
   "name": "python3"
  },
  "language_info": {
   "codemirror_mode": {
    "name": "ipython",
    "version": 3
   },
   "file_extension": ".py",
   "mimetype": "text/x-python",
   "name": "python",
   "nbconvert_exporter": "python",
   "pygments_lexer": "ipython3",
   "version": "3.7.6"
  }
 },
 "nbformat": 4,
 "nbformat_minor": 4
}
